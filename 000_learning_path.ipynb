{
 "cells": [
  {
   "cell_type": "markdown",
   "metadata": {
    "collapsed": true
   },
   "source": [
    "# Learning \n",
    "This jupyter notebook is dedicated to the learning of the algorithm familiy of _autoencoders_. This notebook resumes the learnings during the development of this repository, for more detail please refer to __*each individual*__ notebook."
   ]
  },
  {
   "cell_type": "markdown",
   "metadata": {},
   "source": [
    "## A| Autoencoder \n",
    "### Tutorials\n",
    " - [Building Autoencoders in Keras](https://blog.keras.io/building-autoencoders-in-keras.html)\n",
    " - [Introduction to autoencoders -- JJ ](https://www.jeremyjordan.me/autoencoders/)\n",
    " \n",
    "### Datasets\n",
    "#### 01| Digit Recongnizer\n",
    " 1. [Digit Recognizer - MNIST](https://www.kaggle.com/c/digit-recognizer). |  Code found in: `A01_ae_mnist.py`  and results commented on: `A01_ae_mnist.ipybn`\n",
    " \n",
    " \n",
    "#### 02| Denoising Dirty Documents\n",
    " 2. [Denoising Dirty Documents](https://www.kaggle.com/c/denoising-dirty-documents) |  Code found in: `000_ae_ddd.py` \n",
    "\n",
    "\n",
    "\n",
    "## B| Variable Autoencoder\n",
    "### Papers\n",
    " - [Auto-Encoding Variational Bayes](https://arxiv.org/abs/1312.6114)\n",
    " - [Stochastic Backpropagation and Approximate Inference in Deep Generative Models](https://arxiv.org/abs/1401.4082)\n",
    " - [Tutorial on Variational Autoencoders](https://arxiv.org/abs/1606.05908)\n",
    "\n",
    "\n",
    "### Tutorials\n",
    "- [Tensorflow 2.0 - Tutorial CVAE](https://www.tensorflow.org/alpha/tutorials/generative/cvae) \n",
    "- [Teaching a Variational Autoencoder (VAE) to draw MNIST characters](https://towardsdatascience.com/teaching-a-variational-autoencoder-vae-to-draw-mnist-characters-978675c95776)\n",
    "- [Intuitively Understanding Variational Autoencoders](https://towardsdatascience.com/intuitively-understanding-variational-autoencoders-1bfe67eb5daf)\n",
    "- [Tutorial - What is a variational autoencoder?](https://jaan.io/what-is-variational-autoencoder-vae-tutorial/)\n",
    "  - [Machine Learning Trick of the Day (4): Reparameterisation Tricks](http://blog.shakirm.com/2015/10/machine-learning-trick-of-the-day-4-reparameterisation-tricks/)\n",
    "  - [A Statistical View of Deep Learning (II): Auto-encoders and Free Energy](http://blog.shakirm.com/2015/03/a-statistical-view-of-deep-learning-ii-auto-encoders-and-free-energy/)\n",
    "  \n",
    "### Datasets"
   ]
  }
 ],
 "metadata": {
  "kernelspec": {
   "display_name": "Python 3",
   "language": "python",
   "name": "python3"
  },
  "language_info": {
   "codemirror_mode": {
    "name": "ipython",
    "version": 3
   },
   "file_extension": ".py",
   "mimetype": "text/x-python",
   "name": "python",
   "nbconvert_exporter": "python",
   "pygments_lexer": "ipython3",
   "version": "3.6.8"
  }
 },
 "nbformat": 4,
 "nbformat_minor": 1
}
