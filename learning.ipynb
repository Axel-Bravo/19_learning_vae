{
 "cells": [
  {
   "cell_type": "markdown",
   "metadata": {
    "collapsed": true
   },
   "source": [
    "# Learning \n",
    "The main goal is to `learn the vae`, the _variable autoencoder_ algorithm. This notebook resumes the learnings during the development of this repository. "
   ]
  },
  {
   "cell_type": "markdown",
   "metadata": {},
   "source": [
    "## 0| Variable Autoencoder\n",
    "The cornerstone of the `vae` is this [tutorial](https://www.tensorflow.org/alpha/tutorials/generative/cvae), this one has guided the development of the `001_vae_mnist.py` file.\n",
    "\n",
    "### Papers\n",
    " - [Auto-Encoding Variational Bayes](https://arxiv.org/abs/1312.6114)\n",
    " - [Stochastic Backpropagation and Approximate Inference in Deep Generative Models](https://arxiv.org/abs/1401.4082)\n",
    " - [Tutorial on Variational Autoencoders](https://arxiv.org/abs/1606.05908)\n",
    "\n",
    "\n",
    "### Tutorials\n",
    "- [Teaching a Variational Autoencoder (VAE) to draw MNIST characters](https://towardsdatascience.com/teaching-a-variational-autoencoder-vae-to-draw-mnist-characters-978675c95776)\n",
    "- [Intuitively Understanding Variational Autoencoders](https://towardsdatascience.com/intuitively-understanding-variational-autoencoders-1bfe67eb5daf)\n",
    "- [Tutorial - What is a variational autoencoder?](https://jaan.io/what-is-variational-autoencoder-vae-tutorial/)\n",
    "  - [Machine Learning Trick of the Day (4): Reparameterisation Tricks](http://blog.shakirm.com/2015/10/machine-learning-trick-of-the-day-4-reparameterisation-tricks/)\n",
    "  - [A Statistical View of Deep Learning (II): Auto-encoders and Free Energy](http://blog.shakirm.com/2015/03/a-statistical-view-of-deep-learning-ii-auto-encoders-and-free-energy/)"
   ]
  }
 ],
 "metadata": {
  "kernelspec": {
   "display_name": "Python 3",
   "language": "python",
   "name": "python3"
  },
  "language_info": {
   "codemirror_mode": {
    "name": "ipython",
    "version": 3
   },
   "file_extension": ".py",
   "mimetype": "text/x-python",
   "name": "python",
   "nbconvert_exporter": "python",
   "pygments_lexer": "ipython3",
   "version": "3.6.8"
  }
 },
 "nbformat": 4,
 "nbformat_minor": 1
}
