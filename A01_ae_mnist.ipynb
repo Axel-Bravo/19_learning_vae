{
 "cells": [
  {
   "cell_type": "markdown",
   "metadata": {},
   "source": [
    "# Autoencoder | Digit Recognizer\n",
    "This is a refresh on the `autoencoder` algorithm, the autoencoder algorithms have limitations due to the fact that the \"internal representation\" achieved at the end of the __encoding__ part, _does not follow any known distribution representation_. Hence we can not use it to generate proper new __similar__ (to the trained data). __Autoencoders__ are used for image _denoizing_.\n",
    "\n",
    "## Tutorials:\n",
    "Tutorials employed as `inspiration or base` either to understand better the __concept__ or to use as a starting point for doing the _code implementation_. \n",
    " - [Building Autoencoders in Keras](https://blog.keras.io/building-autoencoders-in-keras.html)\n",
    " - [Introduction to autoencoders](https://www.jeremyjordan.me/autoencoders/)"
   ]
  },
  {
   "cell_type": "markdown",
   "metadata": {},
   "source": [
    "### 1| Base\n",
    "\n",
    "![Autoencoder](notes/theory_autoencoder.png)\n",
    "\n",
    "The __bottleneck__ learns a _dimentionally reduced_ representation of the __input__ in order to be able to reconstruct it in the __output__ with as few _loss_, quality loss, as possible.\n",
    "\n",
    "\n",
    "#### Results\n",
    "We can observe a plateau, by observing both the __accuracy__ and __loss__ graphics, reaching by the epoch number _80_, having both __train/test__ accuracy with similar values.\n",
    "\n",
    "![01_Base_accuracy](results/A01_ae_mnist/1_Base_accuracy.png)\n",
    "\n",
    "![01_Base_loss](results/A01_ae_mnist/1_Base_loss.png)\n",
    "\n",
    "As for a more __visual__ observation of the neural network improvements: \n",
    "![01_Base_comparison_initial](results/A01_ae_mnist/1_Base_comparison_initial.png)\n",
    "\n",
    "Between the __first__ iterations and the __last__ one we do not appreciate an _extreme_ (subjective). improvement, though there is an _increase_ in the __nitidity__ of the generated numbers.\n",
    "\n",
    "![01_Base_comparison_final](results/A01_ae_mnist/1_Base_comparison_final.png)"
   ]
  },
  {
   "cell_type": "code",
   "execution_count": null,
   "metadata": {},
   "outputs": [],
   "source": []
  }
 ],
 "metadata": {
  "kernelspec": {
   "display_name": "Python 3",
   "language": "python",
   "name": "python3"
  },
  "language_info": {
   "codemirror_mode": {
    "name": "ipython",
    "version": 3
   },
   "file_extension": ".py",
   "mimetype": "text/x-python",
   "name": "python",
   "nbconvert_exporter": "python",
   "pygments_lexer": "ipython3",
   "version": "3.6.8"
  }
 },
 "nbformat": 4,
 "nbformat_minor": 2
}
